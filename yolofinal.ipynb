{
  "nbformat": 4,
  "nbformat_minor": 0,
  "metadata": {
    "colab": {
      "provenance": [],
      "gpuType": "T4",
      "include_colab_link": true
    },
    "kernelspec": {
      "name": "python3",
      "display_name": "Python 3"
    },
    "language_info": {
      "name": "python"
    },
    "accelerator": "GPU"
  },
  "cells": [
    {
      "cell_type": "markdown",
      "metadata": {
        "id": "view-in-github",
        "colab_type": "text"
      },
      "source": [
        "<a href=\"https://colab.research.google.com/github/Darshana005-crypto/Darshana.R/blob/main/yolofinal.ipynb\" target=\"_parent\"><img src=\"https://colab.research.google.com/assets/colab-badge.svg\" alt=\"Open In Colab\"/></a>"
      ]
    },
    {
      "cell_type": "code",
      "execution_count": null,
      "metadata": {
        "colab": {
          "base_uri": "https://localhost:8080/"
        },
        "id": "4t3H5D1wV_cS",
        "outputId": "de9aafbc-a7c4-4b91-93e8-e914a6d807a9"
      },
      "outputs": [
        {
          "output_type": "stream",
          "name": "stdout",
          "text": [
            "\u001b[2K     \u001b[90m━━━━━━━━━━━━━━━━━━━━━━━━━━━━━━━━━━━━━━━━\u001b[0m \u001b[32m782.8/782.8 kB\u001b[0m \u001b[31m8.8 MB/s\u001b[0m eta \u001b[36m0:00:00\u001b[0m\n",
            "\u001b[2K     \u001b[90m━━━━━━━━━━━━━━━━━━━━━━━━━━━━━━━━━━━━━━━━\u001b[0m \u001b[32m21.3/21.3 MB\u001b[0m \u001b[31m44.7 MB/s\u001b[0m eta \u001b[36m0:00:00\u001b[0m\n",
            "\u001b[2K     \u001b[90m━━━━━━━━━━━━━━━━━━━━━━━━━━━━━━━━━━━━━━━━\u001b[0m \u001b[32m1.6/1.6 MB\u001b[0m \u001b[31m11.0 MB/s\u001b[0m eta \u001b[36m0:00:00\u001b[0m\n",
            "\u001b[?25h"
          ]
        }
      ],
      "source": [
        "!pip install -q ultralytics\n",
        "!pip install -q IPython"
      ]
    },
    {
      "cell_type": "code",
      "source": [
        "import ultralytics\n",
        "from IPython import display"
      ],
      "metadata": {
        "id": "rUkn_tQyWXSe"
      },
      "execution_count": null,
      "outputs": []
    },
    {
      "cell_type": "code",
      "source": [
        "ultralytics.checks()"
      ],
      "metadata": {
        "colab": {
          "base_uri": "https://localhost:8080/"
        },
        "id": "7gYqTiT4W5zk",
        "outputId": "4c09d323-9648-4b7d-feb6-932e3ac1db17"
      },
      "execution_count": null,
      "outputs": [
        {
          "output_type": "stream",
          "name": "stdout",
          "text": [
            "Ultralytics YOLOv8.2.35 🚀 Python-3.10.12 torch-2.3.0+cu121 CUDA:0 (Tesla T4, 15102MiB)\n",
            "Setup complete ✅ (2 CPUs, 12.7 GB RAM, 30.2/78.2 GB disk)\n"
          ]
        }
      ]
    },
    {
      "cell_type": "code",
      "source": [
        "from google.colab import drive"
      ],
      "metadata": {
        "id": "FmHirYuYXENB"
      },
      "execution_count": null,
      "outputs": []
    },
    {
      "cell_type": "code",
      "source": [
        "drive.mount('/content/drive')"
      ],
      "metadata": {
        "colab": {
          "base_uri": "https://localhost:8080/"
        },
        "id": "1gHvQbSkXBUi",
        "outputId": "e93570df-820d-4db2-b9ec-f094376d4950"
      },
      "execution_count": null,
      "outputs": [
        {
          "output_type": "stream",
          "name": "stdout",
          "text": [
            "Mounted at /content/drive\n"
          ]
        }
      ]
    },
    {
      "cell_type": "code",
      "source": [
        "%cd /content/drive/MyDrive/Yolo_Final"
      ],
      "metadata": {
        "colab": {
          "base_uri": "https://localhost:8080/"
        },
        "id": "-VWw1CZaYk3F",
        "outputId": "3d416f98-87bf-4d8b-c475-8cea9d813011"
      },
      "execution_count": null,
      "outputs": [
        {
          "output_type": "stream",
          "name": "stdout",
          "text": [
            "/content/drive/MyDrive/Yolo_Final\n"
          ]
        }
      ]
    },
    {
      "cell_type": "code",
      "source": [
        "!yolo task=detect mode=train model=yolov8s.pt data=data.yaml epochs=10 plots=True"
      ],
      "metadata": {
        "colab": {
          "base_uri": "https://localhost:8080/"
        },
        "id": "4PntnIjjZCS6",
        "outputId": "94fd4641-0f3c-4ec3-da20-b5d9a4ddd321"
      },
      "execution_count": null,
      "outputs": [
        {
          "output_type": "stream",
          "name": "stdout",
          "text": [
            "Ultralytics YOLOv8.2.31 🚀 Python-3.10.12 torch-2.3.0+cu121 CUDA:0 (Tesla T4, 15102MiB)\n",
            "\u001b[34m\u001b[1mengine/trainer: \u001b[0mtask=detect, mode=train, model=yolov8s.pt, data=data.yaml, epochs=10, time=None, patience=100, batch=16, imgsz=640, save=True, save_period=-1, cache=False, device=None, workers=8, project=None, name=train2, exist_ok=False, pretrained=True, optimizer=auto, verbose=True, seed=0, deterministic=True, single_cls=False, rect=False, cos_lr=False, close_mosaic=10, resume=False, amp=True, fraction=1.0, profile=False, freeze=None, multi_scale=False, overlap_mask=True, mask_ratio=4, dropout=0.0, val=True, split=val, save_json=False, save_hybrid=False, conf=None, iou=0.7, max_det=300, half=False, dnn=False, plots=True, source=None, vid_stride=1, stream_buffer=False, visualize=False, augment=False, agnostic_nms=False, classes=None, retina_masks=False, embed=None, show=False, save_frames=False, save_txt=False, save_conf=False, save_crop=False, show_labels=True, show_conf=True, show_boxes=True, line_width=None, format=torchscript, keras=False, optimize=False, int8=False, dynamic=False, simplify=False, opset=None, workspace=4, nms=False, lr0=0.01, lrf=0.01, momentum=0.937, weight_decay=0.0005, warmup_epochs=3.0, warmup_momentum=0.8, warmup_bias_lr=0.1, box=7.5, cls=0.5, dfl=1.5, pose=12.0, kobj=1.0, label_smoothing=0.0, nbs=64, hsv_h=0.015, hsv_s=0.7, hsv_v=0.4, degrees=0.0, translate=0.1, scale=0.5, shear=0.0, perspective=0.0, flipud=0.0, fliplr=0.5, bgr=0.0, mosaic=1.0, mixup=0.0, copy_paste=0.0, auto_augment=randaugment, erasing=0.4, crop_fraction=1.0, cfg=None, tracker=botsort.yaml, save_dir=runs/detect/train2\n",
            "Downloading https://ultralytics.com/assets/Arial.ttf to '/root/.config/Ultralytics/Arial.ttf'...\n",
            "100% 755k/755k [00:00<00:00, 13.5MB/s]\n",
            "Overriding model.yaml nc=80 with nc=5\n",
            "\n",
            "                   from  n    params  module                                       arguments                     \n",
            "  0                  -1  1       928  ultralytics.nn.modules.conv.Conv             [3, 32, 3, 2]                 \n",
            "  1                  -1  1     18560  ultralytics.nn.modules.conv.Conv             [32, 64, 3, 2]                \n",
            "  2                  -1  1     29056  ultralytics.nn.modules.block.C2f             [64, 64, 1, True]             \n",
            "  3                  -1  1     73984  ultralytics.nn.modules.conv.Conv             [64, 128, 3, 2]               \n",
            "  4                  -1  2    197632  ultralytics.nn.modules.block.C2f             [128, 128, 2, True]           \n",
            "  5                  -1  1    295424  ultralytics.nn.modules.conv.Conv             [128, 256, 3, 2]              \n",
            "  6                  -1  2    788480  ultralytics.nn.modules.block.C2f             [256, 256, 2, True]           \n",
            "  7                  -1  1   1180672  ultralytics.nn.modules.conv.Conv             [256, 512, 3, 2]              \n",
            "  8                  -1  1   1838080  ultralytics.nn.modules.block.C2f             [512, 512, 1, True]           \n",
            "  9                  -1  1    656896  ultralytics.nn.modules.block.SPPF            [512, 512, 5]                 \n",
            " 10                  -1  1         0  torch.nn.modules.upsampling.Upsample         [None, 2, 'nearest']          \n",
            " 11             [-1, 6]  1         0  ultralytics.nn.modules.conv.Concat           [1]                           \n",
            " 12                  -1  1    591360  ultralytics.nn.modules.block.C2f             [768, 256, 1]                 \n",
            " 13                  -1  1         0  torch.nn.modules.upsampling.Upsample         [None, 2, 'nearest']          \n",
            " 14             [-1, 4]  1         0  ultralytics.nn.modules.conv.Concat           [1]                           \n",
            " 15                  -1  1    148224  ultralytics.nn.modules.block.C2f             [384, 128, 1]                 \n",
            " 16                  -1  1    147712  ultralytics.nn.modules.conv.Conv             [128, 128, 3, 2]              \n",
            " 17            [-1, 12]  1         0  ultralytics.nn.modules.conv.Concat           [1]                           \n",
            " 18                  -1  1    493056  ultralytics.nn.modules.block.C2f             [384, 256, 1]                 \n",
            " 19                  -1  1    590336  ultralytics.nn.modules.conv.Conv             [256, 256, 3, 2]              \n",
            " 20             [-1, 9]  1         0  ultralytics.nn.modules.conv.Concat           [1]                           \n",
            " 21                  -1  1   1969152  ultralytics.nn.modules.block.C2f             [768, 512, 1]                 \n",
            " 22        [15, 18, 21]  1   2117983  ultralytics.nn.modules.head.Detect           [5, [128, 256, 512]]          \n",
            "Model summary: 225 layers, 11137535 parameters, 11137519 gradients, 28.7 GFLOPs\n",
            "\n",
            "Transferred 349/355 items from pretrained weights\n",
            "\u001b[34m\u001b[1mTensorBoard: \u001b[0mStart with 'tensorboard --logdir runs/detect/train2', view at http://localhost:6006/\n",
            "Freezing layer 'model.22.dfl.conv.weight'\n",
            "\u001b[34m\u001b[1mAMP: \u001b[0mrunning Automatic Mixed Precision (AMP) checks with YOLOv8n...\n",
            "/usr/local/lib/python3.10/dist-packages/torch/nn/modules/conv.py:456: UserWarning: Plan failed with a cudnnException: CUDNN_BACKEND_EXECUTION_PLAN_DESCRIPTOR: cudnnFinalize Descriptor Failed cudnn_status: CUDNN_STATUS_NOT_SUPPORTED (Triggered internally at ../aten/src/ATen/native/cudnn/Conv_v8.cpp:919.)\n",
            "  return F.conv2d(input, weight, bias, self.stride,\n",
            "\u001b[34m\u001b[1mAMP: \u001b[0mchecks passed ✅\n",
            "\u001b[34m\u001b[1mtrain: \u001b[0mScanning /content/drive/MyDrive/Yolo_Final/data/train/labels.cache... 120 images, 0 backgrounds, 0 corrupt: 100% 120/120 [00:00<?, ?it/s]\n",
            "\u001b[34m\u001b[1malbumentations: \u001b[0mBlur(p=0.01, blur_limit=(3, 7)), MedianBlur(p=0.01, blur_limit=(3, 7)), ToGray(p=0.01), CLAHE(p=0.01, clip_limit=(1, 4.0), tile_grid_size=(8, 8))\n",
            "/usr/lib/python3.10/multiprocessing/popen_fork.py:66: RuntimeWarning: os.fork() was called. os.fork() is incompatible with multithreaded code, and JAX is multithreaded, so this will likely lead to a deadlock.\n",
            "  self.pid = os.fork()\n",
            "\u001b[34m\u001b[1mval: \u001b[0mScanning /content/drive/MyDrive/Yolo_Final/data/valid/labels.cache... 31 images, 0 backgrounds, 0 corrupt: 100% 31/31 [00:00<?, ?it/s]\n",
            "Plotting labels to runs/detect/train2/labels.jpg... \n",
            "\u001b[34m\u001b[1moptimizer:\u001b[0m 'optimizer=auto' found, ignoring 'lr0=0.01' and 'momentum=0.937' and determining best 'optimizer', 'lr0' and 'momentum' automatically... \n",
            "\u001b[34m\u001b[1moptimizer:\u001b[0m AdamW(lr=0.001111, momentum=0.9) with parameter groups 57 weight(decay=0.0), 64 weight(decay=0.0005), 63 bias(decay=0.0)\n",
            "\u001b[34m\u001b[1mTensorBoard: \u001b[0mmodel graph visualization added ✅\n",
            "Image sizes 640 train, 640 val\n",
            "Using 2 dataloader workers\n",
            "Logging results to \u001b[1mruns/detect/train2\u001b[0m\n",
            "Starting training for 10 epochs...\n",
            "Closing dataloader mosaic\n",
            "\u001b[34m\u001b[1malbumentations: \u001b[0mBlur(p=0.01, blur_limit=(3, 7)), MedianBlur(p=0.01, blur_limit=(3, 7)), ToGray(p=0.01), CLAHE(p=0.01, clip_limit=(1, 4.0), tile_grid_size=(8, 8))\n",
            "/usr/lib/python3.10/multiprocessing/popen_fork.py:66: RuntimeWarning: os.fork() was called. os.fork() is incompatible with multithreaded code, and JAX is multithreaded, so this will likely lead to a deadlock.\n",
            "  self.pid = os.fork()\n",
            "\n",
            "      Epoch    GPU_mem   box_loss   cls_loss   dfl_loss  Instances       Size\n",
            "       1/10      4.23G      2.334      5.189      2.008         37        640: 100% 8/8 [00:09<00:00,  1.13s/it]\n",
            "                 Class     Images  Instances      Box(P          R      mAP50  mAP50-95): 100% 1/1 [00:01<00:00,  1.83s/it]\n",
            "                   all         31        101      0.846     0.0286     0.0219    0.00696\n",
            "\n",
            "      Epoch    GPU_mem   box_loss   cls_loss   dfl_loss  Instances       Size\n",
            "       2/10      4.13G       2.01      3.298      1.823         29        640: 100% 8/8 [00:02<00:00,  3.83it/s]\n",
            "                 Class     Images  Instances      Box(P          R      mAP50  mAP50-95): 100% 1/1 [00:00<00:00,  1.46it/s]\n",
            "                   all         31        101      0.475      0.365      0.405      0.193\n",
            "\n",
            "      Epoch    GPU_mem   box_loss   cls_loss   dfl_loss  Instances       Size\n",
            "       3/10      4.18G      1.701      2.324      1.612         35        640: 100% 8/8 [00:02<00:00,  2.97it/s]\n",
            "                 Class     Images  Instances      Box(P          R      mAP50  mAP50-95): 100% 1/1 [00:01<00:00,  1.35s/it]\n",
            "                   all         31        101      0.497      0.601      0.592      0.299\n",
            "\n",
            "      Epoch    GPU_mem   box_loss   cls_loss   dfl_loss  Instances       Size\n",
            "       4/10      4.16G      1.606      1.993      1.514         59        640: 100% 8/8 [00:02<00:00,  3.08it/s]\n",
            "                 Class     Images  Instances      Box(P          R      mAP50  mAP50-95): 100% 1/1 [00:00<00:00,  2.65it/s]\n",
            "                   all         31        101      0.699      0.503      0.532      0.278\n",
            "\n",
            "      Epoch    GPU_mem   box_loss   cls_loss   dfl_loss  Instances       Size\n",
            "       5/10      4.23G      1.598      1.716      1.417         49        640: 100% 8/8 [00:02<00:00,  3.90it/s]\n",
            "                 Class     Images  Instances      Box(P          R      mAP50  mAP50-95): 100% 1/1 [00:00<00:00,  2.70it/s]\n",
            "                   all         31        101      0.855      0.562      0.666      0.368\n",
            "\n",
            "      Epoch    GPU_mem   box_loss   cls_loss   dfl_loss  Instances       Size\n",
            "       6/10      4.17G      1.562      1.522      1.383         44        640: 100% 8/8 [00:01<00:00,  4.12it/s]\n",
            "                 Class     Images  Instances      Box(P          R      mAP50  mAP50-95): 100% 1/1 [00:00<00:00,  3.08it/s]\n",
            "                   all         31        101      0.659      0.604      0.654      0.351\n",
            "\n",
            "      Epoch    GPU_mem   box_loss   cls_loss   dfl_loss  Instances       Size\n",
            "       7/10      4.18G       1.53      1.411      1.386         46        640: 100% 8/8 [00:02<00:00,  3.74it/s]\n",
            "                 Class     Images  Instances      Box(P          R      mAP50  mAP50-95): 100% 1/1 [00:00<00:00,  1.21it/s]\n",
            "                   all         31        101      0.659      0.687      0.733      0.424\n",
            "\n",
            "      Epoch    GPU_mem   box_loss   cls_loss   dfl_loss  Instances       Size\n",
            "       8/10      4.15G      1.476      1.325      1.325         45        640: 100% 8/8 [00:02<00:00,  2.88it/s]\n",
            "                 Class     Images  Instances      Box(P          R      mAP50  mAP50-95): 100% 1/1 [00:00<00:00,  1.17it/s]\n",
            "                   all         31        101      0.761      0.677       0.76      0.436\n",
            "\n",
            "      Epoch    GPU_mem   box_loss   cls_loss   dfl_loss  Instances       Size\n",
            "       9/10      4.18G       1.43      1.232      1.318         45        640: 100% 8/8 [00:02<00:00,  3.31it/s]\n",
            "                 Class     Images  Instances      Box(P          R      mAP50  mAP50-95): 100% 1/1 [00:00<00:00,  2.87it/s]\n",
            "                   all         31        101      0.823      0.708      0.764      0.446\n",
            "\n",
            "      Epoch    GPU_mem   box_loss   cls_loss   dfl_loss  Instances       Size\n",
            "      10/10      4.15G      1.418      1.163      1.285         51        640: 100% 8/8 [00:01<00:00,  4.15it/s]\n",
            "                 Class     Images  Instances      Box(P          R      mAP50  mAP50-95): 100% 1/1 [00:00<00:00,  3.03it/s]\n",
            "                   all         31        101      0.846      0.727      0.785       0.45\n",
            "\n",
            "10 epochs completed in 0.016 hours.\n",
            "Optimizer stripped from runs/detect/train2/weights/last.pt, 22.5MB\n",
            "Optimizer stripped from runs/detect/train2/weights/best.pt, 22.5MB\n",
            "\n",
            "Validating runs/detect/train2/weights/best.pt...\n",
            "Ultralytics YOLOv8.2.31 🚀 Python-3.10.12 torch-2.3.0+cu121 CUDA:0 (Tesla T4, 15102MiB)\n",
            "Model summary (fused): 168 layers, 11127519 parameters, 0 gradients, 28.4 GFLOPs\n",
            "                 Class     Images  Instances      Box(P          R      mAP50  mAP50-95): 100% 1/1 [00:00<00:00,  3.08it/s]\n",
            "                   all         31        101      0.845      0.727      0.784       0.45\n",
            "                Helmet         17         18      0.887          1      0.983      0.681\n",
            "               Goggles          9          9      0.565      0.667      0.525        0.2\n",
            "                Jacket         13         14      0.899      0.636      0.737      0.438\n",
            "                Gloves         30         52      0.945      0.331       0.68      0.373\n",
            "              Footwear          4          8      0.932          1      0.995      0.558\n",
            "Speed: 0.2ms preprocess, 4.4ms inference, 0.0ms loss, 1.9ms postprocess per image\n",
            "Results saved to \u001b[1mruns/detect/train2\u001b[0m\n",
            "💡 Learn more at https://docs.ultralytics.com/modes/train\n"
          ]
        }
      ]
    },
    {
      "cell_type": "code",
      "source": [
        "!yolo task=detect mode=val model=/content/drive/MyDrive/Yolo_Final/runs/detect/train/weights/best.pt data=data.yaml"
      ],
      "metadata": {
        "colab": {
          "base_uri": "https://localhost:8080/"
        },
        "id": "9c1Uxf-Hc1rg",
        "outputId": "9686adcd-e4ab-4610-dd39-9f93c58773f9"
      },
      "execution_count": null,
      "outputs": [
        {
          "output_type": "stream",
          "name": "stdout",
          "text": [
            "Ultralytics YOLOv8.2.31 🚀 Python-3.10.12 torch-2.3.0+cu121 CUDA:0 (Tesla T4, 15102MiB)\n",
            "Model summary (fused): 168 layers, 11127519 parameters, 0 gradients, 28.4 GFLOPs\n",
            "\u001b[34m\u001b[1mval: \u001b[0mScanning /content/drive/MyDrive/Yolo_Final/data/valid/labels.cache... 31 images, 0 backgrounds, 0 corrupt: 100% 31/31 [00:00<?, ?it/s]\n",
            "                 Class     Images  Instances      Box(P          R      mAP50  mAP50-95): 100% 2/2 [00:02<00:00,  1.30s/it]\n",
            "                   all         31        101       0.71      0.588      0.703      0.412\n",
            "                Helmet         17         18      0.943      0.922       0.94      0.626\n",
            "               Goggles          9          9          0          0      0.177     0.0576\n",
            "                Jacket         13         14      0.906      0.786      0.803      0.465\n",
            "                Gloves         30         52      0.755      0.356      0.625      0.394\n",
            "              Footwear          4          8      0.944      0.875      0.971      0.518\n",
            "Speed: 2.8ms preprocess, 25.6ms inference, 0.0ms loss, 31.7ms postprocess per image\n",
            "Results saved to \u001b[1mruns/detect/val2\u001b[0m\n",
            "💡 Learn more at https://docs.ultralytics.com/modes/val\n"
          ]
        }
      ]
    },
    {
      "cell_type": "code",
      "source": [
        "!yolo task=detect mode=predict model=/content/drive/MyDrive/Yolo_Final/runs/detect/train/weights/best.pt source=/content/drive/MyDrive/Yolo_Final/data/test/images conf=0.30"
      ],
      "metadata": {
        "colab": {
          "base_uri": "https://localhost:8080/"
        },
        "id": "mwNkICfPgi4z",
        "outputId": "7abde668-455f-494f-a3ef-8392ba117092"
      },
      "execution_count": null,
      "outputs": [
        {
          "output_type": "stream",
          "name": "stdout",
          "text": [
            "Ultralytics YOLOv8.2.31 🚀 Python-3.10.12 torch-2.3.0+cu121 CUDA:0 (Tesla T4, 15102MiB)\n",
            "Model summary (fused): 168 layers, 11127519 parameters, 0 gradients, 28.4 GFLOPs\n",
            "\n",
            "image 1/31 /content/drive/MyDrive/Yolo_Final/data/test/images/1.jpeg: 480x640 2 Glovess, 113.1ms\n",
            "image 2/31 /content/drive/MyDrive/Yolo_Final/data/test/images/10.jpeg: 384x640 3 Glovess, 67.8ms\n",
            "image 3/31 /content/drive/MyDrive/Yolo_Final/data/test/images/11.jpeg: 640x640 6 Glovess, 17.1ms\n",
            "image 4/31 /content/drive/MyDrive/Yolo_Final/data/test/images/12.jpeg: 512x640 4 Glovess, 69.2ms\n",
            "image 5/31 /content/drive/MyDrive/Yolo_Final/data/test/images/13.jpeg: 320x640 1 Gloves, 69.5ms\n",
            "image 6/31 /content/drive/MyDrive/Yolo_Final/data/test/images/14(1).jpeg: 640x608 3 Glovess, 69.7ms\n",
            "image 7/31 /content/drive/MyDrive/Yolo_Final/data/test/images/14.jpg: 512x640 2 Helmets, 1 Gloves, 13.9ms\n",
            "image 8/31 /content/drive/MyDrive/Yolo_Final/data/test/images/15.jpeg: 640x640 (no detections), 17.2ms\n",
            "/usr/local/lib/python3.10/dist-packages/torch/nn/modules/conv.py:456: UserWarning: Plan failed with a cudnnException: CUDNN_BACKEND_EXECUTION_PLAN_DESCRIPTOR: cudnnFinalize Descriptor Failed cudnn_status: CUDNN_STATUS_NOT_SUPPORTED (Triggered internally at ../aten/src/ATen/native/cudnn/Conv_v8.cpp:919.)\n",
            "  return F.conv2d(input, weight, bias, self.stride,\n",
            "image 9/31 /content/drive/MyDrive/Yolo_Final/data/test/images/16.jpeg: 640x416 2 Helmets, 1 Jacket, 1 Gloves, 67.5ms\n",
            "image 10/31 /content/drive/MyDrive/Yolo_Final/data/test/images/17.jpeg: 480x640 1 Helmet, 1 Jacket, 4 Glovess, 13.8ms\n",
            "image 11/31 /content/drive/MyDrive/Yolo_Final/data/test/images/18.jpeg: 640x448 1 Helmet, 2 Jackets, 69.3ms\n",
            "image 12/31 /content/drive/MyDrive/Yolo_Final/data/test/images/19.jpeg: 640x640 1 Helmet, 17.5ms\n",
            "image 13/31 /content/drive/MyDrive/Yolo_Final/data/test/images/2.jpeg: 448x640 4 Glovess, 68.8ms\n",
            "image 14/31 /content/drive/MyDrive/Yolo_Final/data/test/images/20.jpeg: 640x448 1 Helmet, 1 Goggles, 1 Jacket, 3 Glovess, 3 Footwears, 12.6ms\n",
            "image 15/31 /content/drive/MyDrive/Yolo_Final/data/test/images/21.jpeg: 640x448 1 Helmet, 1 Jacket, 1 Gloves, 2 Footwears, 11.8ms\n",
            "image 16/31 /content/drive/MyDrive/Yolo_Final/data/test/images/22.jpeg: 640x384 1 Helmet, 1 Goggles, 1 Jacket, 2 Footwears, 69.0ms\n",
            "image 17/31 /content/drive/MyDrive/Yolo_Final/data/test/images/23.jpeg: 640x416 1 Helmet, 1 Goggles, 1 Jacket, 1 Gloves, 2 Footwears, 12.6ms\n",
            "image 18/31 /content/drive/MyDrive/Yolo_Final/data/test/images/24.jpeg: 640x480 1 Helmet, 3 Jackets, 2 Glovess, 77.2ms\n",
            "image 19/31 /content/drive/MyDrive/Yolo_Final/data/test/images/25.jpeg: 640x512 1 Helmet, 2 Jackets, 3 Glovess, 67.3ms\n",
            "image 20/31 /content/drive/MyDrive/Yolo_Final/data/test/images/26.jpeg: 640x640 4 Glovess, 17.2ms\n",
            "image 21/31 /content/drive/MyDrive/Yolo_Final/data/test/images/27.jpeg: 640x576 (no detections), 79.4ms\n",
            "image 22/31 /content/drive/MyDrive/Yolo_Final/data/test/images/28.jpeg: 544x640 3 Glovess, 67.5ms\n",
            "image 23/31 /content/drive/MyDrive/Yolo_Final/data/test/images/29.jpeg: 352x640 3 Glovess, 67.8ms\n",
            "image 24/31 /content/drive/MyDrive/Yolo_Final/data/test/images/3.jpeg: 480x640 1 Helmet, 1 Goggles, 1 Jacket, 4 Glovess, 13.9ms\n",
            "image 25/31 /content/drive/MyDrive/Yolo_Final/data/test/images/30.jpeg: 448x640 1 Helmet, 1 Gloves, 13.6ms\n",
            "image 26/31 /content/drive/MyDrive/Yolo_Final/data/test/images/4.jpeg: 640x416 1 Jacket, 12.4ms\n",
            "image 27/31 /content/drive/MyDrive/Yolo_Final/data/test/images/5.jpeg: 416x640 1 Helmet, 1 Goggles, 1 Jacket, 1 Gloves, 73.0ms\n",
            "image 28/31 /content/drive/MyDrive/Yolo_Final/data/test/images/6.jpeg: 448x640 3 Helmets, 1 Jacket, 1 Gloves, 13.6ms\n",
            "image 29/31 /content/drive/MyDrive/Yolo_Final/data/test/images/7.jpeg: 448x640 3 Glovess, 12.7ms\n",
            "image 30/31 /content/drive/MyDrive/Yolo_Final/data/test/images/8.jpeg: 448x640 1 Helmet, 1 Jacket, 1 Gloves, 12.8ms\n",
            "image 31/31 /content/drive/MyDrive/Yolo_Final/data/test/images/9.jpeg: 448x640 1 Helmet, 1 Jacket, 6 Glovess, 12.8ms\n",
            "Speed: 2.7ms preprocess, 42.6ms inference, 30.4ms postprocess per image at shape (1, 3, 448, 640)\n",
            "Results saved to \u001b[1mruns/detect/predict2\u001b[0m\n",
            "💡 Learn more at https://docs.ultralytics.com/modes/predict\n"
          ]
        }
      ]
    },
    {
      "cell_type": "code",
      "source": [],
      "metadata": {
        "id": "sjiEUbZfhkqT"
      },
      "execution_count": null,
      "outputs": []
    }
  ]
}