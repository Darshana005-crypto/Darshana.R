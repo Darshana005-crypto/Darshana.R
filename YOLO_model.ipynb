{
  "nbformat": 4,
  "nbformat_minor": 0,
  "metadata": {
    "colab": {
      "provenance": [],
      "authorship_tag": "ABX9TyMmr7tXDetF2iCyoGML3pUZ",
      "include_colab_link": true
    },
    "kernelspec": {
      "name": "python3",
      "display_name": "Python 3"
    },
    "language_info": {
      "name": "python"
    }
  },
  "cells": [
    {
      "cell_type": "markdown",
      "metadata": {
        "id": "view-in-github",
        "colab_type": "text"
      },
      "source": [
        "<a href=\"https://colab.research.google.com/github/Darshana005-crypto/Darshana.R/blob/main/YOLO_model.ipynb\" target=\"_parent\"><img src=\"https://colab.research.google.com/assets/colab-badge.svg\" alt=\"Open In Colab\"/></a>"
      ]
    },
    {
      "cell_type": "code",
      "execution_count": null,
      "metadata": {
        "id": "L6MzjYT_mjNu"
      },
      "outputs": [],
      "source": [
        "!pip install -q ultralytics\n",
        "!pip install -q IPython"
      ]
    },
    {
      "cell_type": "code",
      "source": [
        "import ultralytics\n",
        "from IPython import display"
      ],
      "metadata": {
        "id": "l-niNTyiocp9"
      },
      "execution_count": null,
      "outputs": []
    },
    {
      "cell_type": "code",
      "source": [
        "ultralytics.checks()"
      ],
      "metadata": {
        "id": "eVjR2O1lol2I"
      },
      "execution_count": null,
      "outputs": []
    },
    {
      "cell_type": "code",
      "source": [
        "from google.colab import drive"
      ],
      "metadata": {
        "id": "zPRXW3Iiors2"
      },
      "execution_count": null,
      "outputs": []
    },
    {
      "cell_type": "code",
      "source": [
        "drive.mount('/content/drive')"
      ],
      "metadata": {
        "id": "ylbKyGJRow-g"
      },
      "execution_count": null,
      "outputs": []
    },
    {
      "cell_type": "code",
      "source": [
        "%cd /content/drive/MyDrive/Yolo_Final"
      ],
      "metadata": {
        "id": "QgkB4q7Ao6fJ"
      },
      "execution_count": null,
      "outputs": []
    },
    {
      "cell_type": "code",
      "source": [
        "!yolo task=detect mode=train model=yolov8s.pt data=data.yam1 epochs=10 plots=True"
      ],
      "metadata": {
        "id": "HASQcS0rpDTr"
      },
      "execution_count": null,
      "outputs": []
    },
    {
      "cell_type": "code",
      "source": [
        "!yolo task=detect mode=val mode1=content/drive/MyDrive/Yolo_Final/runs/detect/train/weights/best.pt data=da"
      ],
      "metadata": {
        "id": "wcpDBEj-pytP"
      },
      "execution_count": null,
      "outputs": []
    },
    {
      "cell_type": "code",
      "source": [
        "!yolo task=detect mode=predict model=/content/drive/MyDrive/Yolo_Final/runs/detect/train/weights/best.pt data =sou"
      ],
      "metadata": {
        "id": "kq_nFmKcpSHH"
      },
      "execution_count": null,
      "outputs": []
    }
  ]
}